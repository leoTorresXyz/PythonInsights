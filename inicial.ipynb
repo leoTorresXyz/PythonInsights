{
 "cells": [
  {
   "cell_type": "markdown",
   "metadata": {},
   "source": [
    "# Python Insights - Analisando Dados com Python\n",
    "\n",
    "### Case - Cancelamento de Clientes\n",
    "\n",
    "Você foi contratado por uma empresa com mais de 800 mil clientes para um projeto de Dados. Recentemente a empresa percebeu que da sua base total de clientes, a maioria são clientes inativos, ou seja, que já cancelaram o serviço.\n",
    "\n",
    "Precisando melhorar seus resultados ela quer conseguir entender os principais motivos desses cancelamentos e quais as ações mais eficientes para reduzir esse número.\n",
    "\n",
    "Base de dados e arquivos: https://drive.google.com/drive/folders/1uDesZePdkhiraJmiyeZ-w5tfc8XsNYFZ?usp=drive_link"
   ]
  },
  {
   "cell_type": "code",
   "execution_count": null,
   "metadata": {},
   "outputs": [],
   "source": [
    "# Passo a passo do projeto\n",
    "\n",
    "# Passo 1: Importar a base de dados\n",
    " ## instalar pandas: pip install pandas numpy openpyxl\n",
    "import pandas as pd \n",
    "\n",
    "tabela = pd.read_csv(\"cancelamentos.csv\")"
   ]
  },
  {
   "cell_type": "code",
   "execution_count": null,
   "metadata": {},
   "outputs": [],
   "source": [
    "# Passo 2: Visualizar a base de dados\n",
    "\n",
    " ## eliminar colunas inúteis ou vazias\n",
    "tabela = tabela.drop(columns=\"CustomerID\")\n",
    " ## tabela = tabela.drop(columns=[\"CustomerID\", \"idade\", \"sexo\"])\n",
    "\n",
    "display(tabela)"
   ]
  },
  {
   "cell_type": "code",
   "execution_count": null,
   "metadata": {},
   "outputs": [],
   "source": [
    "# Passo 3: Corrigir as cagadas da base de dados\n",
    "display(tabela.info())\n",
    "\n",
    "# eliminar linhas com valores vazios\n",
    "tabela = tabela.dropna()\n",
    "\n",
    "display(tabela.info())"
   ]
  },
  {
   "cell_type": "code",
   "execution_count": null,
   "metadata": {},
   "outputs": [],
   "source": [
    "# Passo 4: Análise inicial dos cancelamentos\n",
    " ## Quantas pessoas cancelaram e quantas não cancelaram\n",
    "display(tabela[\"cancelou\"].value_counts())\n",
    " \n",
    " ## em percentual\n",
    "display(tabela[\"cancelou\"].value_counts(normalize= True))\n",
    "#display(tabela[\"cancelou\"].value_counts(normalize= True).map(\"{:.1%}\".format))\n"
   ]
  },
  {
   "cell_type": "code",
   "execution_count": null,
   "metadata": {},
   "outputs": [],
   "source": [
    "# Passo 5: Análise dos cancelamentos\n",
    " ## Gráficos/Dashboards\n",
    "import plotly.express as px\n",
    "\n",
    "for coluna in tabela.columns:\n",
    "    grafico = px.histogram(tabela, x=coluna, color=\"cancelou\")\n",
    "    grafico.show()"
   ]
  },
  {
   "cell_type": "code",
   "execution_count": null,
   "metadata": {},
   "outputs": [],
   "source": [
    "# Passo 6: Insights\n",
    "\n",
    " ## clientes com assinatura mensal cancelam mais\n",
    "   ### Sugestão: oferecer desconto nos planos anuais e trimestrais\n",
    " ## clientes que ligam mais de 4 vezes para o call center cancelam\n",
    "   ### Sugestão: criar processo para resolver o problema do cliente em no máximo 3 ligações\n",
    " ## clientes que atrasam mais de 20 dias cancelam\n",
    "   ### Sugestão: criar política de resolução  de atrasos em até 10 dias (equipe financeira)\n",
    "\n",
    "tabela = tabela[tabela[\"duracao_contrato\"] != \"Monthly\"]\n",
    "tabela = tabela[tabela[\"ligacoes_callcenter\"] <= 4]\n",
    "tabela = tabela[tabela[\"dias_atraso\"] <= 20]\n",
    "\n",
    "# valores atualizados após uso das sugestões\n",
    "display(tabela[\"cancelou\"].value_counts())\n",
    " ## em percentual\n",
    "display(tabela[\"cancelou\"].value_counts(normalize= True))"
   ]
  }
 ],
 "metadata": {
  "kernelspec": {
   "display_name": "base",
   "language": "python",
   "name": "python3"
  },
  "language_info": {
   "codemirror_mode": {
    "name": "ipython",
    "version": 3
   },
   "file_extension": ".py",
   "mimetype": "text/x-python",
   "name": "python",
   "nbconvert_exporter": "python",
   "pygments_lexer": "ipython3",
   "version": "3.12.1"
  },
  "orig_nbformat": 4
 },
 "nbformat": 4,
 "nbformat_minor": 2
}
